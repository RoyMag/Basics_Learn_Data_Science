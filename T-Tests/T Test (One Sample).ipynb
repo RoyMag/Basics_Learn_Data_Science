{
 "cells": [
  {
   "cell_type": "code",
   "execution_count": 2,
   "metadata": {},
   "outputs": [],
   "source": [
    "# importing libraries\n",
    "\n",
    "import pandas as pd\n",
    "import scipy.stats as stats    # statistics package\n",
    "from scipy.stats import ttest_1samp    # t-test package for one sample"
   ]
  },
  {
   "cell_type": "code",
   "execution_count": 3,
   "metadata": {},
   "outputs": [],
   "source": [
    "# loading data\n",
    "\n",
    "data1 = pd.read_csv(\"onesample.csv\")    # reads and saves whole file\n",
    "data2 = data1[\"Insect Length\"]    # reads and saves only the specified column"
   ]
  },
  {
   "cell_type": "code",
   "execution_count": 4,
   "metadata": {},
   "outputs": [
    {
     "data": {
      "text/plain": [
       "0    6.55\n",
       "1    6.67\n",
       "2    6.56\n",
       "3    6.63\n",
       "4    6.39\n",
       "Name: Insect Length, dtype: float64"
      ]
     },
     "execution_count": 4,
     "metadata": {},
     "output_type": "execute_result"
    }
   ],
   "source": [
    "# printing first 5 rows\n",
    "\n",
    "data2.head()"
   ]
  },
  {
   "cell_type": "markdown",
   "metadata": {},
   "source": [
    "### Let's conduct an one sample t-test to check if the mean of the sample insects is similar to the mean of the earlier insects. Mean of the earlier insects (population mean) is 6.09cms\n",
    "\n",
    "##### We have the degree of freedom to be 28 and taking significance level to be 0.05, the t-critical value from t-table comes out to be 2.048"
   ]
  },
  {
   "cell_type": "code",
   "execution_count": 5,
   "metadata": {},
   "outputs": [
    {
     "name": "stdout",
     "output_type": "stream",
     "text": [
      "Ttest_1sampResult(statistic=5.466112820736585, pvalue=7.768697740008658e-06)\n"
     ]
    }
   ],
   "source": [
    "# calculating the t-statistic value using the ttest_1samp module\n",
    "\n",
    "t_stat1 = ttest_1samp(data2, 6.09)    # t-statistic for the data2 with population mean\n",
    "# returns two values, t-test statistic and p-value\n",
    "print(t_stat1)    # print complete t-statistic result with p-value"
   ]
  },
  {
   "cell_type": "code",
   "execution_count": 8,
   "metadata": {},
   "outputs": [
    {
     "name": "stdout",
     "output_type": "stream",
     "text": [
      "5.466112820736585\n"
     ]
    }
   ],
   "source": [
    "# calculate and print only the t-statistic value\n",
    "\n",
    "t_stat1, p_value = ttest_1samp(data2, 6.09)\n",
    "print(t_stat1)"
   ]
  },
  {
   "cell_type": "markdown",
   "metadata": {},
   "source": [
    "## Here, t-statistic > t-critical, hence we reject the null hypothesis and conclude that mean of sample insects is significantly different than the insects of earlier times"
   ]
  }
 ],
 "metadata": {
  "kernelspec": {
   "display_name": "Python 3",
   "language": "python",
   "name": "python3"
  },
  "language_info": {
   "codemirror_mode": {
    "name": "ipython",
    "version": 3
   },
   "file_extension": ".py",
   "mimetype": "text/x-python",
   "name": "python",
   "nbconvert_exporter": "python",
   "pygments_lexer": "ipython3",
   "version": "3.7.6"
  }
 },
 "nbformat": 4,
 "nbformat_minor": 4
}
